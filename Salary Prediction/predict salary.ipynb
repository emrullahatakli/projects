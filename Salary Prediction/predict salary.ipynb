{
 "cells": [
  {
   "cell_type": "code",
   "execution_count": 1,
   "id": "f38b3618",
   "metadata": {},
   "outputs": [],
   "source": [
    "import warnings\n",
    "import pandas as pd\n",
    "import numpy as np\n",
    "import seaborn as sns\n",
    "import matplotlib.pyplot as plt\n",
    "import missingno as msno\n",
    "from sklearn.metrics import mean_squared_error, mean_absolute_error\n",
    "from sklearn.preprocessing import StandardScaler, RobustScaler\n",
    "from pandas.core.common import SettingWithCopyWarning\n",
    "from sklearn.exceptions import ConvergenceWarning\n",
    "from sklearn.metrics import mean_squared_error\n",
    "from sklearn.model_selection import train_test_split, GridSearchCV, cross_val_score"
   ]
  },
  {
   "cell_type": "code",
   "execution_count": 2,
   "id": "082f069f",
   "metadata": {},
   "outputs": [],
   "source": [
    "warnings.simplefilter(action='ignore', category=FutureWarning)\n",
    "warnings.simplefilter(action=\"ignore\", category=ConvergenceWarning)\n",
    "warnings.simplefilter(action=\"ignore\", category=SettingWithCopyWarning)"
   ]
  },
  {
   "cell_type": "code",
   "execution_count": 3,
   "id": "7629778d",
   "metadata": {},
   "outputs": [],
   "source": [
    "from catboost import CatBoostRegressor\n",
    "from lightgbm import LGBMRegressor\n",
    "from sklearn.ensemble import RandomForestRegressor, GradientBoostingRegressor\n",
    "from sklearn.linear_model import LinearRegression, Ridge, Lasso, ElasticNet\n",
    "from sklearn.neighbors import KNeighborsRegressor\n",
    "from sklearn.svm import SVR\n",
    "from sklearn.tree import DecisionTreeRegressor\n",
    "from xgboost import XGBRegressor"
   ]
  },
  {
   "cell_type": "code",
   "execution_count": 4,
   "id": "7e2072a1",
   "metadata": {},
   "outputs": [],
   "source": [
    "pd.set_option('display.max_columns', None)\n",
    "pd.set_option('display.width', 170)\n",
    "pd.set_option('display.max_rows', 20)\n",
    "pd.set_option('display.float_format', lambda x: '%.3f' % x)"
   ]
  },
  {
   "cell_type": "code",
   "execution_count": 5,
   "id": "32dcdc76",
   "metadata": {},
   "outputs": [
    {
     "data": {
      "text/html": [
       "<div>\n",
       "<style scoped>\n",
       "    .dataframe tbody tr th:only-of-type {\n",
       "        vertical-align: middle;\n",
       "    }\n",
       "\n",
       "    .dataframe tbody tr th {\n",
       "        vertical-align: top;\n",
       "    }\n",
       "\n",
       "    .dataframe thead th {\n",
       "        text-align: right;\n",
       "    }\n",
       "</style>\n",
       "<table border=\"1\" class=\"dataframe\">\n",
       "  <thead>\n",
       "    <tr style=\"text-align: right;\">\n",
       "      <th></th>\n",
       "      <th>AtBat</th>\n",
       "      <th>Hits</th>\n",
       "      <th>HmRun</th>\n",
       "      <th>Runs</th>\n",
       "      <th>RBI</th>\n",
       "      <th>Walks</th>\n",
       "      <th>Years</th>\n",
       "      <th>CAtBat</th>\n",
       "      <th>CHits</th>\n",
       "      <th>CHmRun</th>\n",
       "      <th>CRuns</th>\n",
       "      <th>CRBI</th>\n",
       "      <th>CWalks</th>\n",
       "      <th>League</th>\n",
       "      <th>Division</th>\n",
       "      <th>PutOuts</th>\n",
       "      <th>Assists</th>\n",
       "      <th>Errors</th>\n",
       "      <th>Salary</th>\n",
       "      <th>NewLeague</th>\n",
       "    </tr>\n",
       "  </thead>\n",
       "  <tbody>\n",
       "    <tr>\n",
       "      <th>0</th>\n",
       "      <td>293</td>\n",
       "      <td>66</td>\n",
       "      <td>1</td>\n",
       "      <td>30</td>\n",
       "      <td>29</td>\n",
       "      <td>14</td>\n",
       "      <td>1</td>\n",
       "      <td>293</td>\n",
       "      <td>66</td>\n",
       "      <td>1</td>\n",
       "      <td>30</td>\n",
       "      <td>29</td>\n",
       "      <td>14</td>\n",
       "      <td>A</td>\n",
       "      <td>E</td>\n",
       "      <td>446</td>\n",
       "      <td>33</td>\n",
       "      <td>20</td>\n",
       "      <td>nan</td>\n",
       "      <td>A</td>\n",
       "    </tr>\n",
       "    <tr>\n",
       "      <th>1</th>\n",
       "      <td>315</td>\n",
       "      <td>81</td>\n",
       "      <td>7</td>\n",
       "      <td>24</td>\n",
       "      <td>38</td>\n",
       "      <td>39</td>\n",
       "      <td>14</td>\n",
       "      <td>3449</td>\n",
       "      <td>835</td>\n",
       "      <td>69</td>\n",
       "      <td>321</td>\n",
       "      <td>414</td>\n",
       "      <td>375</td>\n",
       "      <td>N</td>\n",
       "      <td>W</td>\n",
       "      <td>632</td>\n",
       "      <td>43</td>\n",
       "      <td>10</td>\n",
       "      <td>475.000</td>\n",
       "      <td>N</td>\n",
       "    </tr>\n",
       "    <tr>\n",
       "      <th>2</th>\n",
       "      <td>479</td>\n",
       "      <td>130</td>\n",
       "      <td>18</td>\n",
       "      <td>66</td>\n",
       "      <td>72</td>\n",
       "      <td>76</td>\n",
       "      <td>3</td>\n",
       "      <td>1624</td>\n",
       "      <td>457</td>\n",
       "      <td>63</td>\n",
       "      <td>224</td>\n",
       "      <td>266</td>\n",
       "      <td>263</td>\n",
       "      <td>A</td>\n",
       "      <td>W</td>\n",
       "      <td>880</td>\n",
       "      <td>82</td>\n",
       "      <td>14</td>\n",
       "      <td>480.000</td>\n",
       "      <td>A</td>\n",
       "    </tr>\n",
       "    <tr>\n",
       "      <th>3</th>\n",
       "      <td>496</td>\n",
       "      <td>141</td>\n",
       "      <td>20</td>\n",
       "      <td>65</td>\n",
       "      <td>78</td>\n",
       "      <td>37</td>\n",
       "      <td>11</td>\n",
       "      <td>5628</td>\n",
       "      <td>1575</td>\n",
       "      <td>225</td>\n",
       "      <td>828</td>\n",
       "      <td>838</td>\n",
       "      <td>354</td>\n",
       "      <td>N</td>\n",
       "      <td>E</td>\n",
       "      <td>200</td>\n",
       "      <td>11</td>\n",
       "      <td>3</td>\n",
       "      <td>500.000</td>\n",
       "      <td>N</td>\n",
       "    </tr>\n",
       "    <tr>\n",
       "      <th>4</th>\n",
       "      <td>321</td>\n",
       "      <td>87</td>\n",
       "      <td>10</td>\n",
       "      <td>39</td>\n",
       "      <td>42</td>\n",
       "      <td>30</td>\n",
       "      <td>2</td>\n",
       "      <td>396</td>\n",
       "      <td>101</td>\n",
       "      <td>12</td>\n",
       "      <td>48</td>\n",
       "      <td>46</td>\n",
       "      <td>33</td>\n",
       "      <td>N</td>\n",
       "      <td>E</td>\n",
       "      <td>805</td>\n",
       "      <td>40</td>\n",
       "      <td>4</td>\n",
       "      <td>91.500</td>\n",
       "      <td>N</td>\n",
       "    </tr>\n",
       "  </tbody>\n",
       "</table>\n",
       "</div>"
      ],
      "text/plain": [
       "   AtBat  Hits  HmRun  Runs  RBI  Walks  Years  CAtBat  CHits  CHmRun  CRuns  CRBI  CWalks League Division  PutOuts  Assists  Errors  Salary NewLeague\n",
       "0    293    66      1    30   29     14      1     293     66       1     30    29      14      A        E      446       33      20     nan         A\n",
       "1    315    81      7    24   38     39     14    3449    835      69    321   414     375      N        W      632       43      10 475.000         N\n",
       "2    479   130     18    66   72     76      3    1624    457      63    224   266     263      A        W      880       82      14 480.000         A\n",
       "3    496   141     20    65   78     37     11    5628   1575     225    828   838     354      N        E      200       11       3 500.000         N\n",
       "4    321    87     10    39   42     30      2     396    101      12     48    46      33      N        E      805       40       4  91.500         N"
      ]
     },
     "execution_count": 5,
     "metadata": {},
     "output_type": "execute_result"
    }
   ],
   "source": [
    "df = pd.read_csv(\"hitters.csv\")\n",
    "df.head()"
   ]
  },
  {
   "cell_type": "code",
   "execution_count": 6,
   "id": "0e9e9bb2",
   "metadata": {},
   "outputs": [
    {
     "data": {
      "text/html": [
       "<div>\n",
       "<style scoped>\n",
       "    .dataframe tbody tr th:only-of-type {\n",
       "        vertical-align: middle;\n",
       "    }\n",
       "\n",
       "    .dataframe tbody tr th {\n",
       "        vertical-align: top;\n",
       "    }\n",
       "\n",
       "    .dataframe thead th {\n",
       "        text-align: right;\n",
       "    }\n",
       "</style>\n",
       "<table border=\"1\" class=\"dataframe\">\n",
       "  <thead>\n",
       "    <tr style=\"text-align: right;\">\n",
       "      <th></th>\n",
       "      <th>AtBat</th>\n",
       "      <th>Hits</th>\n",
       "      <th>HmRun</th>\n",
       "      <th>Runs</th>\n",
       "      <th>RBI</th>\n",
       "      <th>Walks</th>\n",
       "      <th>Years</th>\n",
       "      <th>CAtBat</th>\n",
       "      <th>CHits</th>\n",
       "      <th>CHmRun</th>\n",
       "      <th>CRuns</th>\n",
       "      <th>CRBI</th>\n",
       "      <th>CWalks</th>\n",
       "      <th>PutOuts</th>\n",
       "      <th>Assists</th>\n",
       "      <th>Errors</th>\n",
       "      <th>Salary</th>\n",
       "    </tr>\n",
       "  </thead>\n",
       "  <tbody>\n",
       "    <tr>\n",
       "      <th>count</th>\n",
       "      <td>322.000</td>\n",
       "      <td>322.000</td>\n",
       "      <td>322.000</td>\n",
       "      <td>322.000</td>\n",
       "      <td>322.000</td>\n",
       "      <td>322.000</td>\n",
       "      <td>322.000</td>\n",
       "      <td>322.000</td>\n",
       "      <td>322.000</td>\n",
       "      <td>322.000</td>\n",
       "      <td>322.000</td>\n",
       "      <td>322.000</td>\n",
       "      <td>322.000</td>\n",
       "      <td>322.000</td>\n",
       "      <td>322.000</td>\n",
       "      <td>322.000</td>\n",
       "      <td>263.000</td>\n",
       "    </tr>\n",
       "    <tr>\n",
       "      <th>mean</th>\n",
       "      <td>380.929</td>\n",
       "      <td>101.025</td>\n",
       "      <td>10.770</td>\n",
       "      <td>50.910</td>\n",
       "      <td>48.028</td>\n",
       "      <td>38.742</td>\n",
       "      <td>7.444</td>\n",
       "      <td>2648.683</td>\n",
       "      <td>717.571</td>\n",
       "      <td>69.491</td>\n",
       "      <td>358.795</td>\n",
       "      <td>330.118</td>\n",
       "      <td>260.239</td>\n",
       "      <td>288.938</td>\n",
       "      <td>106.913</td>\n",
       "      <td>8.040</td>\n",
       "      <td>535.926</td>\n",
       "    </tr>\n",
       "    <tr>\n",
       "      <th>std</th>\n",
       "      <td>153.405</td>\n",
       "      <td>46.455</td>\n",
       "      <td>8.709</td>\n",
       "      <td>26.024</td>\n",
       "      <td>26.167</td>\n",
       "      <td>21.639</td>\n",
       "      <td>4.926</td>\n",
       "      <td>2324.206</td>\n",
       "      <td>654.473</td>\n",
       "      <td>86.266</td>\n",
       "      <td>334.106</td>\n",
       "      <td>333.220</td>\n",
       "      <td>267.058</td>\n",
       "      <td>280.705</td>\n",
       "      <td>136.855</td>\n",
       "      <td>6.368</td>\n",
       "      <td>451.119</td>\n",
       "    </tr>\n",
       "    <tr>\n",
       "      <th>min</th>\n",
       "      <td>16.000</td>\n",
       "      <td>1.000</td>\n",
       "      <td>0.000</td>\n",
       "      <td>0.000</td>\n",
       "      <td>0.000</td>\n",
       "      <td>0.000</td>\n",
       "      <td>1.000</td>\n",
       "      <td>19.000</td>\n",
       "      <td>4.000</td>\n",
       "      <td>0.000</td>\n",
       "      <td>1.000</td>\n",
       "      <td>0.000</td>\n",
       "      <td>0.000</td>\n",
       "      <td>0.000</td>\n",
       "      <td>0.000</td>\n",
       "      <td>0.000</td>\n",
       "      <td>67.500</td>\n",
       "    </tr>\n",
       "    <tr>\n",
       "      <th>25%</th>\n",
       "      <td>255.250</td>\n",
       "      <td>64.000</td>\n",
       "      <td>4.000</td>\n",
       "      <td>30.250</td>\n",
       "      <td>28.000</td>\n",
       "      <td>22.000</td>\n",
       "      <td>4.000</td>\n",
       "      <td>816.750</td>\n",
       "      <td>209.000</td>\n",
       "      <td>14.000</td>\n",
       "      <td>100.250</td>\n",
       "      <td>88.750</td>\n",
       "      <td>67.250</td>\n",
       "      <td>109.250</td>\n",
       "      <td>7.000</td>\n",
       "      <td>3.000</td>\n",
       "      <td>190.000</td>\n",
       "    </tr>\n",
       "    <tr>\n",
       "      <th>50%</th>\n",
       "      <td>379.500</td>\n",
       "      <td>96.000</td>\n",
       "      <td>8.000</td>\n",
       "      <td>48.000</td>\n",
       "      <td>44.000</td>\n",
       "      <td>35.000</td>\n",
       "      <td>6.000</td>\n",
       "      <td>1928.000</td>\n",
       "      <td>508.000</td>\n",
       "      <td>37.500</td>\n",
       "      <td>247.000</td>\n",
       "      <td>220.500</td>\n",
       "      <td>170.500</td>\n",
       "      <td>212.000</td>\n",
       "      <td>39.500</td>\n",
       "      <td>6.000</td>\n",
       "      <td>425.000</td>\n",
       "    </tr>\n",
       "    <tr>\n",
       "      <th>75%</th>\n",
       "      <td>512.000</td>\n",
       "      <td>137.000</td>\n",
       "      <td>16.000</td>\n",
       "      <td>69.000</td>\n",
       "      <td>64.750</td>\n",
       "      <td>53.000</td>\n",
       "      <td>11.000</td>\n",
       "      <td>3924.250</td>\n",
       "      <td>1059.250</td>\n",
       "      <td>90.000</td>\n",
       "      <td>526.250</td>\n",
       "      <td>426.250</td>\n",
       "      <td>339.250</td>\n",
       "      <td>325.000</td>\n",
       "      <td>166.000</td>\n",
       "      <td>11.000</td>\n",
       "      <td>750.000</td>\n",
       "    </tr>\n",
       "    <tr>\n",
       "      <th>max</th>\n",
       "      <td>687.000</td>\n",
       "      <td>238.000</td>\n",
       "      <td>40.000</td>\n",
       "      <td>130.000</td>\n",
       "      <td>121.000</td>\n",
       "      <td>105.000</td>\n",
       "      <td>24.000</td>\n",
       "      <td>14053.000</td>\n",
       "      <td>4256.000</td>\n",
       "      <td>548.000</td>\n",
       "      <td>2165.000</td>\n",
       "      <td>1659.000</td>\n",
       "      <td>1566.000</td>\n",
       "      <td>1378.000</td>\n",
       "      <td>492.000</td>\n",
       "      <td>32.000</td>\n",
       "      <td>2460.000</td>\n",
       "    </tr>\n",
       "  </tbody>\n",
       "</table>\n",
       "</div>"
      ],
      "text/plain": [
       "        AtBat    Hits   HmRun    Runs     RBI   Walks   Years    CAtBat    CHits  CHmRun    CRuns     CRBI   CWalks  PutOuts  Assists  Errors   Salary\n",
       "count 322.000 322.000 322.000 322.000 322.000 322.000 322.000   322.000  322.000 322.000  322.000  322.000  322.000  322.000  322.000 322.000  263.000\n",
       "mean  380.929 101.025  10.770  50.910  48.028  38.742   7.444  2648.683  717.571  69.491  358.795  330.118  260.239  288.938  106.913   8.040  535.926\n",
       "std   153.405  46.455   8.709  26.024  26.167  21.639   4.926  2324.206  654.473  86.266  334.106  333.220  267.058  280.705  136.855   6.368  451.119\n",
       "min    16.000   1.000   0.000   0.000   0.000   0.000   1.000    19.000    4.000   0.000    1.000    0.000    0.000    0.000    0.000   0.000   67.500\n",
       "25%   255.250  64.000   4.000  30.250  28.000  22.000   4.000   816.750  209.000  14.000  100.250   88.750   67.250  109.250    7.000   3.000  190.000\n",
       "50%   379.500  96.000   8.000  48.000  44.000  35.000   6.000  1928.000  508.000  37.500  247.000  220.500  170.500  212.000   39.500   6.000  425.000\n",
       "75%   512.000 137.000  16.000  69.000  64.750  53.000  11.000  3924.250 1059.250  90.000  526.250  426.250  339.250  325.000  166.000  11.000  750.000\n",
       "max   687.000 238.000  40.000 130.000 121.000 105.000  24.000 14053.000 4256.000 548.000 2165.000 1659.000 1566.000 1378.000  492.000  32.000 2460.000"
      ]
     },
     "execution_count": 6,
     "metadata": {},
     "output_type": "execute_result"
    }
   ],
   "source": [
    "df.describe()"
   ]
  },
  {
   "cell_type": "code",
   "execution_count": 7,
   "id": "01d55b67",
   "metadata": {},
   "outputs": [],
   "source": [
    "def check_df(dataframe):\n",
    "    print(f\"Shape: {dataframe.shape}\\n\")\n",
    "    print(f\"Types\\n{dataframe.dtypes}\\n\")\n",
    "    print(f\"NA\\n{dataframe.isnull().sum()}\")"
   ]
  },
  {
   "cell_type": "code",
   "execution_count": 8,
   "id": "258e115f",
   "metadata": {},
   "outputs": [
    {
     "name": "stdout",
     "output_type": "stream",
     "text": [
      "Shape: (322, 20)\n",
      "\n",
      "Types\n",
      "AtBat          int64\n",
      "Hits           int64\n",
      "HmRun          int64\n",
      "Runs           int64\n",
      "RBI            int64\n",
      "Walks          int64\n",
      "Years          int64\n",
      "CAtBat         int64\n",
      "CHits          int64\n",
      "CHmRun         int64\n",
      "CRuns          int64\n",
      "CRBI           int64\n",
      "CWalks         int64\n",
      "League        object\n",
      "Division      object\n",
      "PutOuts        int64\n",
      "Assists        int64\n",
      "Errors         int64\n",
      "Salary       float64\n",
      "NewLeague     object\n",
      "dtype: object\n",
      "\n",
      "NA\n",
      "AtBat         0\n",
      "Hits          0\n",
      "HmRun         0\n",
      "Runs          0\n",
      "RBI           0\n",
      "Walks         0\n",
      "Years         0\n",
      "CAtBat        0\n",
      "CHits         0\n",
      "CHmRun        0\n",
      "CRuns         0\n",
      "CRBI          0\n",
      "CWalks        0\n",
      "League        0\n",
      "Division      0\n",
      "PutOuts       0\n",
      "Assists       0\n",
      "Errors        0\n",
      "Salary       59\n",
      "NewLeague     0\n",
      "dtype: int64\n"
     ]
    }
   ],
   "source": [
    "check_df(df)"
   ]
  },
  {
   "cell_type": "code",
   "execution_count": 9,
   "id": "482a720f",
   "metadata": {},
   "outputs": [
    {
     "data": {
      "text/plain": [
       "count    263.000\n",
       "mean     535.926\n",
       "std      451.119\n",
       "min       67.500\n",
       "25%      190.000\n",
       "50%      425.000\n",
       "75%      750.000\n",
       "max     2460.000\n",
       "Name: Salary, dtype: float64"
      ]
     },
     "execution_count": 9,
     "metadata": {},
     "output_type": "execute_result"
    }
   ],
   "source": [
    "df[\"Salary\"].describe()"
   ]
  },
  {
   "cell_type": "code",
   "execution_count": 10,
   "id": "4084928d",
   "metadata": {},
   "outputs": [
    {
     "data": {
      "image/png": "[encoded data removed]",
      "text/plain": [
       "<Figure size 432x288 with 1 Axes>"
      ]
     },
     "metadata": {
      "needs_background": "light"
     },
     "output_type": "display_data"
    }
   ],
   "source": [
    "sns.distplot(df[\"Salary\"])\n",
    "plt.show()"
   ]
  },
  {
   "cell_type": "code",
   "execution_count": 11,
   "id": "f7eb0512",
   "metadata": {},
   "outputs": [
    {
     "data": {
      "image/png": "[encoded data removed]",
      "text/plain": [
       "<Figure size 432x288 with 1 Axes>"
      ]
     },
     "metadata": {
      "needs_background": "light"
     },
     "output_type": "display_data"
    }
   ],
   "source": [
    "sns.boxplot(df[\"Salary\"])\n",
    "plt.show()"
   ]
  },
  {
   "cell_type": "code",
   "execution_count": 12,
   "id": "8eb42eaa",
   "metadata": {},
   "outputs": [],
   "source": [
    "#kategorik ve nümerik değişkenleri alalım.\n",
    "\n",
    "def grab_col_names(dataframe, cat_th = 10, car_th = 20):\n",
    "    cat_cols = [col for col in dataframe.columns if dataframe[col].dtypes == \"O\"]\n",
    "    num_but_cat = [col for col in dataframe.columns if dataframe[col].nunique() < cat_th and dataframe[col].dtypes in [\"float64\",\"int64\"]]\n",
    "    cat_but_car = [col for col in cat_cols if dataframe[col].nunique() > 20]\n",
    "    \n",
    "    cat_cols = cat_cols + num_but_cat\n",
    "    \n",
    "    cat_cols = [col for col in cat_cols if col not in cat_but_car]\n",
    "    \n",
    "    num_cols = [col for col in dataframe.columns if dataframe[col].dtypes != \"O\"]\n",
    "    num_cols = [col for col in num_cols if col not in num_but_cat]\n",
    "    \n",
    "    print(f\"Observations: {dataframe.shape[0]}\")\n",
    "    print(f\"Variables: {dataframe.shape[1]}\")\n",
    "    print(f'cat_cols: {len(cat_cols)}')\n",
    "    print(f'num_cols: {len(num_cols)}')\n",
    "    print(f'cat_but_car: {len(cat_but_car)}')\n",
    "    print(f'num_but_cat: {len(num_but_cat)}')\n",
    "    return cat_cols, num_cols, cat_but_car"
   ]
  },
  {
   "cell_type": "code",
   "execution_count": 13,
   "id": "c3fcd09a",
   "metadata": {},
   "outputs": [
    {
     "name": "stdout",
     "output_type": "stream",
     "text": [
      "Observations: 322\n",
      "Variables: 20\n",
      "cat_cols: 3\n",
      "num_cols: 17\n",
      "cat_but_car: 0\n",
      "num_but_cat: 0\n"
     ]
    }
   ],
   "source": [
    "cat_cols, num_cols, cat_but_car = grab_col_names(df)"
   ]
  },
  {
   "cell_type": "code",
   "execution_count": 14,
   "id": "c924d47d",
   "metadata": {},
   "outputs": [
    {
     "data": {
      "text/plain": [
       "['AtBat',\n",
       " 'Hits',\n",
       " 'HmRun',\n",
       " 'Runs',\n",
       " 'RBI',\n",
       " 'Walks',\n",
       " 'Years',\n",
       " 'CAtBat',\n",
       " 'CHits',\n",
       " 'CHmRun',\n",
       " 'CRuns',\n",
       " 'CRBI',\n",
       " 'CWalks',\n",
       " 'PutOuts',\n",
       " 'Assists',\n",
       " 'Errors',\n",
       " 'Salary']"
      ]
     },
     "execution_count": 14,
     "metadata": {},
     "output_type": "execute_result"
    }
   ],
   "source": [
    "num_cols"
   ]
  },
  {
   "cell_type": "code",
   "execution_count": 15,
   "id": "89e6dc48",
   "metadata": {},
   "outputs": [],
   "source": [
    "def summary_cat_cols(dataframe, target, categorical_cols):\n",
    "    for col in categorical_cols:\n",
    "        print(col, \":\", len(dataframe[col].value_counts()))\n",
    "        print(pd.DataFrame({\"Count\": dataframe[col].value_counts(),\n",
    "                           \"Ratio\": dataframe[col].value_counts() / len(dataframe),\n",
    "                           \"Target_Mean\": dataframe.groupby(col)[target].agg(\"mean\")}), end = \"\\n\\n\\n\")"
   ]
  },
  {
   "cell_type": "code",
   "execution_count": 16,
   "id": "cd0128cd",
   "metadata": {},
   "outputs": [
    {
     "name": "stdout",
     "output_type": "stream",
     "text": [
      "League : 2\n",
      "        Count  Ratio  Target_Mean\n",
      "League                           \n",
      "A         175  0.543      542.000\n",
      "N         147  0.457      529.117\n",
      "\n",
      "\n",
      "Division : 2\n",
      "   Count  Ratio  Target_Mean\n",
      "E    157  0.488      624.271\n",
      "W    165  0.512      450.877\n",
      "\n",
      "\n",
      "NewLeague : 2\n",
      "           Count  Ratio  Target_Mean\n",
      "NewLeague                           \n",
      "A            176  0.547      537.113\n",
      "N            146  0.453      534.554\n",
      "\n",
      "\n"
     ]
    }
   ],
   "source": [
    "summary_cat_cols(df, \"Salary\", cat_cols)"
   ]
  },
  {
   "cell_type": "code",
   "execution_count": 17,
   "id": "98bf6422",
   "metadata": {},
   "outputs": [
    {
     "data": {
      "image/png": "[encoded data removed]",
      "text/plain": [
       "<Figure size 432x288 with 1 Axes>"
      ]
     },
     "metadata": {
      "needs_background": "light"
     },
     "output_type": "display_data"
    },
    {
     "data": {
      "image/png": "[encoded data removed]",
      "text/plain": [
       "<Figure size 432x288 with 1 Axes>"
      ]
     },
     "metadata": {
      "needs_background": "light"
     },
     "output_type": "display_data"
    },
    {
     "data": {
      "image/png": "[encoded data removed]",
      "text/plain": [
       "<Figure size 432x288 with 1 Axes>"
      ]
     },
     "metadata": {
      "needs_background": "light"
     },
     "output_type": "display_data"
    }
   ],
   "source": [
    "for col in cat_cols:\n",
    "    sns.countplot(x = df[col], data = df)\n",
    "    plt.show(block = True)"
   ]
  },
  {
   "cell_type": "code",
   "execution_count": 18,
   "id": "4edcf4ee",
   "metadata": {},
   "outputs": [],
   "source": [
    "def num_summary(dataframe, numerical_col, plot  = False):\n",
    "    quantiles = [0.05, 0.10, 0.20, 0.30, 0.40, 0.50, 0.60, 0.70, 0.80, 0.90, 0.95, 0.99]\n",
    "    print(dataframe[numerical_col].describe(quantiles).T, end=\"\\n\\n\")\n",
    "\n",
    "    if plot:\n",
    "        dataframe[numerical_col].hist(bins=20)\n",
    "        plt.xlabel(numerical_col)\n",
    "        plt.title(numerical_col)\n",
    "        plt.show()"
   ]
  },
  {
   "cell_type": "code",
   "execution_count": 19,
   "id": "38384f76",
   "metadata": {},
   "outputs": [
    {
     "name": "stdout",
     "output_type": "stream",
     "text": [
      "count   322.000\n",
      "mean    380.929\n",
      "std     153.405\n",
      "min      16.000\n",
      "5%      161.000\n",
      "10%     194.100\n",
      "20%     221.800\n",
      "30%     281.300\n",
      "40%     321.800\n",
      "50%     379.500\n",
      "60%     430.200\n",
      "70%     490.000\n",
      "80%     535.600\n",
      "90%     584.900\n",
      "95%     609.900\n",
      "99%     658.590\n",
      "max     687.000\n",
      "Name: AtBat, dtype: float64\n",
      "\n"
     ]
    },
    {
     "data": {
      "image/png": "[encoded data removed]",
      "text/plain": [
       "<Figure size 432x288 with 1 Axes>"
      ]
     },
     "metadata": {
      "needs_background": "light"
     },
     "output_type": "display_data"
    },
    {
     "name": "stdout",
     "output_type": "stream",
     "text": [
      "count   322.000\n",
      "mean    101.025\n",
      "std      46.455\n",
      "min       1.000\n",
      "5%       39.000\n",
      "10%      45.100\n",
      "20%      57.000\n",
      "30%      70.000\n",
      "40%      82.000\n",
      "50%      96.000\n",
      "60%     113.000\n",
      "70%     128.700\n",
      "80%     144.000\n",
      "90%     163.000\n",
      "95%     174.000\n",
      "99%     210.790\n",
      "max     238.000\n",
      "Name: Hits, dtype: float64\n",
      "\n"
     ]
    },
    {
     "data": {
      "image/png": "[encoded data removed]",
      "text/plain": [
       "<Figure size 432x288 with 1 Axes>"
      ]
     },
     "metadata": {
      "needs_background": "light"
     },
     "output_type": "display_data"
    },
    {
     "name": "stdout",
     "output_type": "stream",
     "text": [
      "count   322.000\n",
      "mean     10.770\n",
      "std       8.709\n",
      "min       0.000\n",
      "5%        0.000\n",
      "10%       1.000\n",
      "20%       3.000\n",
      "30%       5.000\n",
      "40%       6.000\n",
      "50%       8.000\n",
      "60%      10.600\n",
      "70%      14.000\n",
      "80%      18.000\n",
      "90%      24.000\n",
      "95%      28.950\n",
      "99%      33.000\n",
      "max      40.000\n",
      "Name: HmRun, dtype: float64\n",
      "\n"
     ]
    },
    {
     "data": {
      "image/png": "[encoded data removed]",
      "text/plain": [
       "<Figure size 432x288 with 1 Axes>"
      ]
     },
     "metadata": {
      "needs_background": "light"
     },
     "output_type": "display_data"
    },
    {
     "name": "stdout",
     "output_type": "stream",
     "text": [
      "count   322.000\n",
      "mean     50.910\n",
      "std      26.024\n",
      "min       0.000\n",
      "5%       17.000\n",
      "10%      20.100\n",
      "20%      27.000\n",
      "30%      33.000\n",
      "40%      41.000\n",
      "50%      48.000\n",
      "60%      55.600\n",
      "70%      66.000\n",
      "80%      75.800\n",
      "90%      89.000\n",
      "95%      94.000\n",
      "99%     107.790\n",
      "max     130.000\n",
      "Name: Runs, dtype: float64\n",
      "\n"
     ]
    },
    {
     "data": {
      "image/png": "[encoded data removed]",
      "text/plain": [
       "<Figure size 432x288 with 1 Axes>"
      ]
     },
     "metadata": {
      "needs_background": "light"
     },
     "output_type": "display_data"
    },
    {
     "name": "stdout",
     "output_type": "stream",
     "text": [
      "count   322.000\n",
      "mean     48.028\n",
      "std      26.167\n",
      "min       0.000\n",
      "5%       14.000\n",
      "10%      19.000\n",
      "20%      26.000\n",
      "30%      30.000\n",
      "40%      36.400\n",
      "50%      44.000\n",
      "60%      49.000\n",
      "70%      58.000\n",
      "80%      73.000\n",
      "90%      86.000\n",
      "95%      96.000\n",
      "99%     112.370\n",
      "max     121.000\n",
      "Name: RBI, dtype: float64\n",
      "\n"
     ]
    },
    {
     "data": {
      "image/png": "[encoded data removed]",
      "text/plain": [
       "<Figure size 432x288 with 1 Axes>"
      ]
     },
     "metadata": {
      "needs_background": "light"
     },
     "output_type": "display_data"
    },
    {
     "name": "stdout",
     "output_type": "stream",
     "text": [
      "count   322.000\n",
      "mean     38.742\n",
      "std      21.639\n",
      "min       0.000\n",
      "5%       11.050\n",
      "10%      15.000\n",
      "20%      20.000\n",
      "30%      24.000\n",
      "40%      30.000\n",
      "50%      35.000\n",
      "60%      40.000\n",
      "70%      48.700\n",
      "80%      59.000\n",
      "90%      69.900\n",
      "95%      78.000\n",
      "99%      93.580\n",
      "max     105.000\n",
      "Name: Walks, dtype: float64\n",
      "\n"
     ]
    },
    {
     "data": {
      "image/png": "[encoded data removed]",
      "text/plain": [
       "<Figure size 432x288 with 1 Axes>"
      ]
     },
     "metadata": {
      "needs_background": "light"
     },
     "output_type": "display_data"
    },
    {
     "name": "stdout",
     "output_type": "stream",
     "text": [
      "count   322.000\n",
      "mean      7.444\n",
      "std       4.926\n",
      "min       1.000\n",
      "5%        1.000\n",
      "10%       2.000\n",
      "20%       3.000\n",
      "30%       4.000\n",
      "40%       5.000\n",
      "50%       6.000\n",
      "60%       7.600\n",
      "70%      10.000\n",
      "80%      12.000\n",
      "90%      15.000\n",
      "95%      17.000\n",
      "99%      19.790\n",
      "max      24.000\n",
      "Name: Years, dtype: float64\n",
      "\n"
     ]
    },
    {
     "data": {
      "image/png": "[encoded data removed]",
      "text/plain": [
       "<Figure size 432x288 with 1 Axes>"
      ]
     },
     "metadata": {
      "needs_background": "light"
     },
     "output_type": "display_data"
    },
    {
     "name": "stdout",
     "output_type": "stream",
     "text": [
      "count     322.000\n",
      "mean     2648.683\n",
      "std      2324.206\n",
      "min        19.000\n",
      "5%        216.500\n",
      "10%       342.200\n",
      "20%       667.600\n",
      "30%       963.400\n",
      "40%      1402.200\n",
      "50%      1928.000\n",
      "60%      2654.000\n",
      "70%      3365.000\n",
      "80%      4483.000\n",
      "90%      6123.400\n",
      "95%      7125.600\n",
      "99%      8749.970\n",
      "max     14053.000\n",
      "Name: CAtBat, dtype: float64\n",
      "\n"
     ]
    },
    {
     "data": {
      "image/png": "[encoded data removed]",
      "text/plain": [
       "<Figure size 432x288 with 1 Axes>"
      ]
     },
     "metadata": {
      "needs_background": "light"
     },
     "output_type": "display_data"
    },
    {
     "name": "stdout",
     "output_type": "stream",
     "text": [
      "count    322.000\n",
      "mean     717.571\n",
      "std      654.473\n",
      "min        4.000\n",
      "5%        54.000\n",
      "10%       86.000\n",
      "20%      164.600\n",
      "30%      238.000\n",
      "40%      355.800\n",
      "50%      508.000\n",
      "60%      708.200\n",
      "70%      911.100\n",
      "80%     1229.200\n",
      "90%     1659.600\n",
      "95%     2017.150\n",
      "99%     2500.340\n",
      "max     4256.000\n",
      "Name: CHits, dtype: float64\n",
      "\n"
     ]
    },
    {
     "data": {
      "image/png": "[encoded data removed]",
      "text/plain": [
       "<Figure size 432x288 with 1 Axes>"
      ]
     },
     "metadata": {
      "needs_background": "light"
     },
     "output_type": "display_data"
    },
    {
     "name": "stdout",
     "output_type": "stream",
     "text": [
      "count   322.000\n",
      "mean     69.491\n",
      "std      86.266\n",
      "min       0.000\n",
      "5%        2.000\n",
      "10%       4.000\n",
      "20%      10.200\n",
      "30%      16.300\n",
      "40%      27.400\n",
      "50%      37.500\n",
      "60%      51.200\n",
      "70%      72.400\n",
      "80%     103.800\n",
      "90%     194.900\n",
      "95%     265.650\n",
      "99%     373.120\n",
      "max     548.000\n",
      "Name: CHmRun, dtype: float64\n",
      "\n"
     ]
    },
    {
     "data": {
      "image/png": "[encoded data removed]",
      "text/plain": [
       "<Figure size 432x288 with 1 Axes>"
      ]
     },
     "metadata": {
      "needs_background": "light"
     },
     "output_type": "display_data"
    },
    {
     "name": "stdout",
     "output_type": "stream",
     "text": [
      "count    322.000\n",
      "mean     358.795\n",
      "std      334.106\n",
      "min        1.000\n",
      "5%        27.000\n",
      "10%       38.100\n",
      "20%       80.400\n",
      "30%      117.300\n",
      "40%      181.000\n",
      "50%      247.000\n",
      "60%      333.000\n",
      "70%      443.400\n",
      "80%      627.200\n",
      "90%      895.700\n",
      "95%     1032.300\n",
      "99%     1174.370\n",
      "max     2165.000\n",
      "Name: CRuns, dtype: float64\n",
      "\n"
     ]
    },
    {
     "data": {
      "image/png": "[encoded data removed]",
      "text/plain": [
       "<Figure size 432x288 with 1 Axes>"
      ]
     },
     "metadata": {
      "needs_background": "light"
     },
     "output_type": "display_data"
    },
    {
     "name": "stdout",
     "output_type": "stream",
     "text": [
      "count    322.000\n",
      "mean     330.118\n",
      "std      333.220\n",
      "min        0.000\n",
      "5%        22.050\n",
      "10%       34.100\n",
      "20%       70.200\n",
      "30%      106.300\n",
      "40%      149.000\n",
      "50%      220.500\n",
      "60%      303.600\n",
      "70%      379.100\n",
      "80%      496.200\n",
      "90%      861.600\n",
      "95%     1071.750\n",
      "99%     1310.850\n",
      "max     1659.000\n",
      "Name: CRBI, dtype: float64\n",
      "\n"
     ]
    },
    {
     "data": {
      "image/png": "[encoded data removed]",
      "text/plain": [
       "<Figure size 432x288 with 1 Axes>"
      ]
     },
     "metadata": {
      "needs_background": "light"
     },
     "output_type": "display_data"
    },
    {
     "name": "stdout",
     "output_type": "stream",
     "text": [
      "count    322.000\n",
      "mean     260.239\n",
      "std      267.058\n",
      "min        0.000\n",
      "5%        15.050\n",
      "10%       30.100\n",
      "20%       55.000\n",
      "30%       82.000\n",
      "40%      117.400\n",
      "50%      170.500\n",
      "60%      226.600\n",
      "70%      300.700\n",
      "80%      421.000\n",
      "90%      643.900\n",
      "95%      817.600\n",
      "99%     1139.140\n",
      "max     1566.000\n",
      "Name: CWalks, dtype: float64\n",
      "\n"
     ]
    },
    {
     "data": {
      "image/png": "[encoded data removed]",
      "text/plain": [
       "<Figure size 432x288 with 1 Axes>"
      ]
     },
     "metadata": {
      "needs_background": "light"
     },
     "output_type": "display_data"
    },
    {
     "name": "stdout",
     "output_type": "stream",
     "text": [
      "count    322.000\n",
      "mean     288.938\n",
      "std      280.705\n",
      "min        0.000\n",
      "5%        33.200\n",
      "10%       62.200\n",
      "20%       99.600\n",
      "30%      132.000\n",
      "40%      167.000\n",
      "50%      212.000\n",
      "60%      257.400\n",
      "70%      303.000\n",
      "80%      365.800\n",
      "90%      685.600\n",
      "95%      910.650\n",
      "99%     1301.190\n",
      "max     1378.000\n",
      "Name: PutOuts, dtype: float64\n",
      "\n"
     ]
    },
    {
     "data": {
      "image/png": "[encoded data removed]",
      "text/plain": [
       "<Figure size 432x288 with 1 Axes>"
      ]
     },
     "metadata": {
      "needs_background": "light"
     },
     "output_type": "display_data"
    },
    {
     "name": "stdout",
     "output_type": "stream",
     "text": [
      "count   322.000\n",
      "mean    106.913\n",
      "std     136.855\n",
      "min       0.000\n",
      "5%        0.000\n",
      "10%       2.000\n",
      "20%       5.200\n",
      "30%       9.000\n",
      "40%      15.400\n",
      "50%      39.500\n",
      "60%      76.800\n",
      "70%     134.800\n",
      "80%     210.800\n",
      "90%     353.300\n",
      "95%     431.450\n",
      "99%     478.160\n",
      "max     492.000\n",
      "Name: Assists, dtype: float64\n",
      "\n"
     ]
    },
    {
     "data": {
      "image/png": "[encoded data removed]",
      "text/plain": [
       "<Figure size 432x288 with 1 Axes>"
      ]
     },
     "metadata": {
      "needs_background": "light"
     },
     "output_type": "display_data"
    },
    {
     "name": "stdout",
     "output_type": "stream",
     "text": [
      "count   322.000\n",
      "mean      8.040\n",
      "std       6.368\n",
      "min       0.000\n",
      "5%        0.000\n",
      "10%       1.000\n",
      "20%       3.000\n",
      "30%       4.000\n",
      "40%       5.000\n",
      "50%       6.000\n",
      "60%       8.000\n",
      "70%      10.000\n",
      "80%      13.000\n",
      "90%      17.000\n",
      "95%      20.000\n",
      "99%      25.790\n",
      "max      32.000\n",
      "Name: Errors, dtype: float64\n",
      "\n"
     ]
    },
    {
     "data": {
      "image/png": "[encoded data removed]",
      "text/plain": [
       "<Figure size 432x288 with 1 Axes>"
      ]
     },
     "metadata": {
      "needs_background": "light"
     },
     "output_type": "display_data"
    },
    {
     "name": "stdout",
     "output_type": "stream",
     "text": [
      "count    263.000\n",
      "mean     535.926\n",
      "std      451.119\n",
      "min       67.500\n",
      "5%        86.600\n",
      "10%      100.000\n",
      "20%      155.000\n",
      "30%      221.000\n",
      "40%      300.000\n",
      "50%      425.000\n",
      "60%      538.000\n",
      "70%      700.000\n",
      "80%      809.000\n",
      "90%     1048.667\n",
      "95%     1346.000\n",
      "99%     2032.887\n",
      "max     2460.000\n",
      "Name: Salary, dtype: float64\n",
      "\n"
     ]
    },
    {
     "data": {
      "image/png": "[encoded data removed]",
      "text/plain": [
       "<Figure size 432x288 with 1 Axes>"
      ]
     },
     "metadata": {
      "needs_background": "light"
     },
     "output_type": "display_data"
    }
   ],
   "source": [
    "for col in num_cols:\n",
    "    num_summary(df, col, True)"
   ]
  },
  {
   "cell_type": "code",
   "execution_count": 20,
   "id": "bf9b65e7",
   "metadata": {},
   "outputs": [
    {
     "data": {
      "text/plain": [
       "82   1975.000\n",
       "Name: Salary, dtype: float64"
      ]
     },
     "execution_count": 20,
     "metadata": {},
     "output_type": "execute_result"
    }
   ],
   "source": [
    "#df.loc çalışma mantığı -> hits 237den yüksek olanın maaşı\n",
    "df.loc[(df[\"Hits\"] > 237), \"Salary\"]"
   ]
  },
  {
   "cell_type": "code",
   "execution_count": 21,
   "id": "4a74d2db",
   "metadata": {},
   "outputs": [],
   "source": [
    "#aykırı değer analizi bakalım.\n",
    "\n",
    "def outlier_thresholds(dataframe, col_name, q1 = 0.25, q3 = 0.75):\n",
    "    quartile1 = dataframe[col_name].quantile(q1)\n",
    "    quartile3 = dataframe[col_name].quantile(q3)\n",
    "    interquantile_range = quartile3 - quartile1\n",
    "    up_limit = quartile3 + 1.5 * interquantile_range\n",
    "    low_limit = quartile1 - 1.5 * interquantile_range\n",
    "    return low_limit, up_limit\n",
    "\n",
    "def replace_with_thresholds(dataframe, variable, q1 = 0.25, q3 = 0.75):\n",
    "    low_limit, up_limit = outlier_thresholds(dataframe, variable, q1, q3)\n",
    "    dataframe.loc[(dataframe[variable] < low_limit), variable] = low_limit\n",
    "    dataframe.loc[(dataframe[variable] < up_limit), variable] = up_limit\n",
    "    \n",
    "def check_outlier(dataframe, col_name, q1=0.25, q3=0.75):\n",
    "    low_limit, up_limit = outlier_thresholds(dataframe, col_name, q1, q3)\n",
    "    if dataframe[(dataframe[col_name] > up_limit) | (dataframe[col_name] < low_limit)].any(axis = None):\n",
    "        return True\n",
    "    else:\n",
    "        return False\n",
    "\n",
    "def grab_outliers(dataframe, col_name, index = False):\n",
    "    low_limit, up_limit = outlier_thresholds(dataframe, col_name)\n",
    "    if dataframe[((dataframe[col_name] < low_limit) | (dataframe[col_name] > up_limit))].shape[0] > 10:\n",
    "        print(dataframe[((dataframe[col_name] < low_limit) | (dataframe[col_name] > up_limit))].head())\n",
    "    else:\n",
    "        print(dataframe[((dataframe[col_name] < low_limit) | (dataframe[col_name] > up_limit))])\n",
    "        \n",
    "    if index:\n",
    "        outlier_index = dataframe[((dataframe[col_name] < low) | (dataframe[col_name] > up))].index\n",
    "        return outlier_index\n",
    "\n",
    "def remove_outlier(dataframe, col_name):\n",
    "    low_limit, up_limit = outlier_thresholds(dataframe, col_name)\n",
    "    df_without_outliers = dataframe[~((dataframe[col_name] < low_limit) | (dataframe[col_name] > up_limit))]\n",
    "    return df_without_outliers"
   ]
  },
  {
   "cell_type": "code",
   "execution_count": 22,
   "id": "7ef4f9f6",
   "metadata": {},
   "outputs": [
    {
     "name": "stdout",
     "output_type": "stream",
     "text": [
      "AtBat False\n",
      "Hits False\n",
      "HmRun False\n",
      "Runs False\n",
      "RBI False\n",
      "Walks False\n",
      "Years False\n",
      "CAtBat False\n",
      "CHits True\n",
      "CHmRun True\n",
      "CRuns False\n",
      "CRBI False\n",
      "CWalks True\n",
      "PutOuts False\n",
      "Assists False\n",
      "Errors False\n",
      "Salary False\n"
     ]
    }
   ],
   "source": [
    "for col in num_cols:\n",
    "    print(col, check_outlier(df, col, q1=0.1, q3=0.9))"
   ]
  },
  {
   "cell_type": "code",
   "execution_count": 23,
   "id": "cec1435c",
   "metadata": {},
   "outputs": [
    {
     "data": {
      "text/plain": [
       "0       True\n",
       "1      False\n",
       "2      False\n",
       "3      False\n",
       "4      False\n",
       "       ...  \n",
       "317    False\n",
       "318    False\n",
       "319    False\n",
       "320    False\n",
       "321    False\n",
       "Name: Salary, Length: 322, dtype: bool"
      ]
     },
     "execution_count": 23,
     "metadata": {},
     "output_type": "execute_result"
    }
   ],
   "source": [
    "df[\"Salary\"].isnull()"
   ]
  },
  {
   "cell_type": "code",
   "execution_count": 24,
   "id": "409ed679",
   "metadata": {},
   "outputs": [
    {
     "name": "stdout",
     "output_type": "stream",
     "text": [
      "(322, 20)\n",
      "(308, 20)\n"
     ]
    },
    {
     "data": {
      "image/png": "[encoded data removed]",
      "text/plain": [
       "<Figure size 432x288 with 1 Axes>"
      ]
     },
     "metadata": {
      "needs_background": "light"
     },
     "output_type": "display_data"
    }
   ],
   "source": [
    "print(df.shape)\n",
    "df = df[(df['Salary'] < 1350) | (df['Salary'].isnull())]  # Eksik değerleri de istiyoruz.\n",
    "print(df.shape)\n",
    "sns.distplot(df.Salary)\n",
    "plt.show()"
   ]
  },
  {
   "cell_type": "code",
   "execution_count": 25,
   "id": "758d37c8",
   "metadata": {},
   "outputs": [
    {
     "name": "stdout",
     "output_type": "stream",
     "text": [
      "AtBat False\n",
      "Hits False\n",
      "HmRun False\n",
      "Runs False\n",
      "RBI False\n",
      "Walks False\n",
      "Years False\n",
      "CAtBat False\n",
      "CHits False\n",
      "CHmRun False\n",
      "CRuns False\n",
      "CRBI False\n",
      "CWalks False\n",
      "PutOuts False\n",
      "Assists False\n",
      "Errors False\n",
      "Salary False\n"
     ]
    }
   ],
   "source": [
    "for col in num_cols:\n",
    "    if check_outlier(df, col, q1=0.05, q3=0.95):\n",
    "        replace_with_thresholds(df, col, q1=0.05, q3=0.95)\n",
    "\n",
    "for col in num_cols:\n",
    "    print(col, check_outlier(df, col, q1=0.05, q3=0.95))"
   ]
  },
  {
   "cell_type": "code",
   "execution_count": 26,
   "id": "615a5a6e",
   "metadata": {},
   "outputs": [
    {
     "name": "stdout",
     "output_type": "stream",
     "text": [
      "        n_miss  ratio\n",
      "Salary      59 19.160\n"
     ]
    }
   ],
   "source": [
    "def missing_values_table(dataframe, na_name=False):\n",
    "    na_columns = [col for col in dataframe.columns if dataframe[col].isnull().sum() > 0]\n",
    "    n_miss = dataframe[na_columns].isnull().sum().sort_values(ascending=False)\n",
    "    ratio = (dataframe[na_columns].isnull().sum() / dataframe.shape[0] * 100).sort_values(ascending=False)\n",
    "    missing_df = pd.concat([n_miss, np.round(ratio, 2)], axis=1, keys=['n_miss', 'ratio'])\n",
    "    print(missing_df, end=\"\\n\")\n",
    "    if na_name:\n",
    "        return na_columns\n",
    "    \n",
    "missing_values_table(df)"
   ]
  },
  {
   "cell_type": "code",
   "execution_count": 27,
   "id": "97c12fc8",
   "metadata": {},
   "outputs": [
    {
     "data": {
      "image/png": "[encoded data removed]",
      "text/plain": [
       "<Figure size 720x720 with 4 Axes>"
      ]
     },
     "metadata": {
      "needs_background": "light"
     },
     "output_type": "display_data"
    },
    {
     "data": {
      "text/plain": [
       "['Hits', 'Runs', 'CAtBat', 'CHits', 'CRuns', 'CRBI', 'CWalks']"
      ]
     },
     "execution_count": 27,
     "metadata": {},
     "output_type": "execute_result"
    }
   ],
   "source": [
    "#korelasyon bakalım\n",
    "def high_correlated_cols(dataframe, plot=False, corr_th=0.90):\n",
    "    corr = dataframe.corr()\n",
    "    cor_matrix = corr.abs()\n",
    "    upper_triangle_matrix = cor_matrix.where(np.triu(np.ones(cor_matrix.shape), k=1).astype(np.bool))\n",
    "    drop_list = [col for col in upper_triangle_matrix.columns if any(upper_triangle_matrix[col] > corr_th)]\n",
    "    if plot:\n",
    "        import seaborn as sns\n",
    "        import matplotlib.pyplot as plt\n",
    "        sns.set(rc={'figure.figsize': (15, 15)})\n",
    "        sns.heatmap(corr, cmap=\"RdBu\")\n",
    "        plt.show()\n",
    "    return drop_list\n",
    "\n",
    "def target_correlation_matrix(dataframe, corr_th=0.5, target=\"Salary\"):\n",
    "    corr = dataframe.corr()\n",
    "    corr_th = corr_th\n",
    "    try:\n",
    "        filter = np.abs(corr[target]) > corr_th\n",
    "        corr_features = corr.columns[filter].tolist()\n",
    "        sns.clustermap(dataframe[corr_features].corr(), annot=True, fmt=\".2f\")\n",
    "        plt.show()\n",
    "        return corr_features\n",
    "    except:\n",
    "        print(\"Yüksek threshold değeri, corr_th değerinizi düşürün!\")\n",
    "\n",
    "\n",
    "target_correlation_matrix(df, corr_th=0.3, target=\"Salary\")\n",
    "high_correlated_cols(df, plot=False, corr_th=0.90)"
   ]
  },
  {
   "cell_type": "code",
   "execution_count": 28,
   "id": "4e1e39ee",
   "metadata": {},
   "outputs": [],
   "source": [
    "#veri ön işleme (domain bilgisi gerekiyor. kodları hazır aldım.)\n",
    "\n",
    "df['NEW_HitRatio'] = df['Hits'] / df['AtBat']\n",
    "df['NEW_RunRatio'] = df['HmRun'] / df['Runs']\n",
    "df['NEW_CHitRatio'] = df['CHits'] / df['CAtBat']\n",
    "df['NEW_CRunRatio'] = df['CHmRun'] / df['CRuns']\n",
    "\n",
    "df['NEW_Avg_AtBat'] = df['CAtBat'] / df['Years']\n",
    "df['NEW_Avg_Hits'] = df['CHits'] / df['Years']\n",
    "df['NEW_Avg_HmRun'] = df['CHmRun'] / df['Years']\n",
    "df['NEW_Avg_Runs'] = df['CRuns'] / df['Years']\n",
    "df['NEW_Avg_RBI'] = df['CRBI'] / df['Years']\n",
    "df['NEW_Avg_Walks'] = df['CWalks'] / df['Years']"
   ]
  },
  {
   "cell_type": "code",
   "execution_count": 29,
   "id": "145b022f",
   "metadata": {},
   "outputs": [],
   "source": [
    "def one_hot_encoder(dataframe, categorical_cols, drop_first=False):\n",
    "    dataframe = pd.get_dummies(dataframe, columns=categorical_cols, drop_first=drop_first)\n",
    "    return dataframe\n",
    "\n",
    "df = one_hot_encoder(df, cat_cols, drop_first = True)"
   ]
  },
  {
   "cell_type": "code",
   "execution_count": 30,
   "id": "2444a2dd",
   "metadata": {},
   "outputs": [
    {
     "data": {
      "text/html": [
       "<div>\n",
       "<style scoped>\n",
       "    .dataframe tbody tr th:only-of-type {\n",
       "        vertical-align: middle;\n",
       "    }\n",
       "\n",
       "    .dataframe tbody tr th {\n",
       "        vertical-align: top;\n",
       "    }\n",
       "\n",
       "    .dataframe thead th {\n",
       "        text-align: right;\n",
       "    }\n",
       "</style>\n",
       "<table border=\"1\" class=\"dataframe\">\n",
       "  <thead>\n",
       "    <tr style=\"text-align: right;\">\n",
       "      <th></th>\n",
       "      <th>AtBat</th>\n",
       "      <th>Hits</th>\n",
       "      <th>HmRun</th>\n",
       "      <th>Runs</th>\n",
       "      <th>RBI</th>\n",
       "      <th>Walks</th>\n",
       "      <th>Years</th>\n",
       "      <th>CAtBat</th>\n",
       "      <th>CHits</th>\n",
       "      <th>CHmRun</th>\n",
       "      <th>CRuns</th>\n",
       "      <th>CRBI</th>\n",
       "      <th>CWalks</th>\n",
       "      <th>PutOuts</th>\n",
       "      <th>Assists</th>\n",
       "      <th>Errors</th>\n",
       "      <th>Salary</th>\n",
       "      <th>NEW_HitRatio</th>\n",
       "      <th>NEW_RunRatio</th>\n",
       "      <th>NEW_CHitRatio</th>\n",
       "      <th>NEW_CRunRatio</th>\n",
       "      <th>NEW_Avg_AtBat</th>\n",
       "      <th>NEW_Avg_Hits</th>\n",
       "      <th>NEW_Avg_HmRun</th>\n",
       "      <th>NEW_Avg_Runs</th>\n",
       "      <th>NEW_Avg_RBI</th>\n",
       "      <th>NEW_Avg_Walks</th>\n",
       "      <th>League_N</th>\n",
       "      <th>Division_W</th>\n",
       "      <th>NewLeague_N</th>\n",
       "    </tr>\n",
       "  </thead>\n",
       "  <tbody>\n",
       "    <tr>\n",
       "      <th>0</th>\n",
       "      <td>293</td>\n",
       "      <td>66</td>\n",
       "      <td>1</td>\n",
       "      <td>30</td>\n",
       "      <td>29</td>\n",
       "      <td>14</td>\n",
       "      <td>1</td>\n",
       "      <td>293</td>\n",
       "      <td>66</td>\n",
       "      <td>1</td>\n",
       "      <td>30</td>\n",
       "      <td>29</td>\n",
       "      <td>14</td>\n",
       "      <td>446</td>\n",
       "      <td>33</td>\n",
       "      <td>20</td>\n",
       "      <td>nan</td>\n",
       "      <td>0.225</td>\n",
       "      <td>0.033</td>\n",
       "      <td>0.225</td>\n",
       "      <td>0.033</td>\n",
       "      <td>293.000</td>\n",
       "      <td>66.000</td>\n",
       "      <td>1.000</td>\n",
       "      <td>30.000</td>\n",
       "      <td>29.000</td>\n",
       "      <td>14.000</td>\n",
       "      <td>0</td>\n",
       "      <td>0</td>\n",
       "      <td>0</td>\n",
       "    </tr>\n",
       "    <tr>\n",
       "      <th>1</th>\n",
       "      <td>315</td>\n",
       "      <td>81</td>\n",
       "      <td>7</td>\n",
       "      <td>24</td>\n",
       "      <td>38</td>\n",
       "      <td>39</td>\n",
       "      <td>14</td>\n",
       "      <td>3449</td>\n",
       "      <td>835</td>\n",
       "      <td>69</td>\n",
       "      <td>321</td>\n",
       "      <td>414</td>\n",
       "      <td>375</td>\n",
       "      <td>632</td>\n",
       "      <td>43</td>\n",
       "      <td>10</td>\n",
       "      <td>475.000</td>\n",
       "      <td>0.257</td>\n",
       "      <td>0.292</td>\n",
       "      <td>0.242</td>\n",
       "      <td>0.215</td>\n",
       "      <td>246.357</td>\n",
       "      <td>59.643</td>\n",
       "      <td>4.929</td>\n",
       "      <td>22.929</td>\n",
       "      <td>29.571</td>\n",
       "      <td>26.786</td>\n",
       "      <td>1</td>\n",
       "      <td>1</td>\n",
       "      <td>1</td>\n",
       "    </tr>\n",
       "    <tr>\n",
       "      <th>2</th>\n",
       "      <td>479</td>\n",
       "      <td>130</td>\n",
       "      <td>18</td>\n",
       "      <td>66</td>\n",
       "      <td>72</td>\n",
       "      <td>76</td>\n",
       "      <td>3</td>\n",
       "      <td>1624</td>\n",
       "      <td>457</td>\n",
       "      <td>63</td>\n",
       "      <td>224</td>\n",
       "      <td>266</td>\n",
       "      <td>263</td>\n",
       "      <td>880</td>\n",
       "      <td>82</td>\n",
       "      <td>14</td>\n",
       "      <td>480.000</td>\n",
       "      <td>0.271</td>\n",
       "      <td>0.273</td>\n",
       "      <td>0.281</td>\n",
       "      <td>0.281</td>\n",
       "      <td>541.333</td>\n",
       "      <td>152.333</td>\n",
       "      <td>21.000</td>\n",
       "      <td>74.667</td>\n",
       "      <td>88.667</td>\n",
       "      <td>87.667</td>\n",
       "      <td>0</td>\n",
       "      <td>1</td>\n",
       "      <td>0</td>\n",
       "    </tr>\n",
       "    <tr>\n",
       "      <th>3</th>\n",
       "      <td>496</td>\n",
       "      <td>141</td>\n",
       "      <td>20</td>\n",
       "      <td>65</td>\n",
       "      <td>78</td>\n",
       "      <td>37</td>\n",
       "      <td>11</td>\n",
       "      <td>5628</td>\n",
       "      <td>1575</td>\n",
       "      <td>225</td>\n",
       "      <td>828</td>\n",
       "      <td>838</td>\n",
       "      <td>354</td>\n",
       "      <td>200</td>\n",
       "      <td>11</td>\n",
       "      <td>3</td>\n",
       "      <td>500.000</td>\n",
       "      <td>0.284</td>\n",
       "      <td>0.308</td>\n",
       "      <td>0.280</td>\n",
       "      <td>0.272</td>\n",
       "      <td>511.636</td>\n",
       "      <td>143.182</td>\n",
       "      <td>20.455</td>\n",
       "      <td>75.273</td>\n",
       "      <td>76.182</td>\n",
       "      <td>32.182</td>\n",
       "      <td>1</td>\n",
       "      <td>0</td>\n",
       "      <td>1</td>\n",
       "    </tr>\n",
       "    <tr>\n",
       "      <th>4</th>\n",
       "      <td>321</td>\n",
       "      <td>87</td>\n",
       "      <td>10</td>\n",
       "      <td>39</td>\n",
       "      <td>42</td>\n",
       "      <td>30</td>\n",
       "      <td>2</td>\n",
       "      <td>396</td>\n",
       "      <td>101</td>\n",
       "      <td>12</td>\n",
       "      <td>48</td>\n",
       "      <td>46</td>\n",
       "      <td>33</td>\n",
       "      <td>805</td>\n",
       "      <td>40</td>\n",
       "      <td>4</td>\n",
       "      <td>91.500</td>\n",
       "      <td>0.271</td>\n",
       "      <td>0.256</td>\n",
       "      <td>0.255</td>\n",
       "      <td>0.250</td>\n",
       "      <td>198.000</td>\n",
       "      <td>50.500</td>\n",
       "      <td>6.000</td>\n",
       "      <td>24.000</td>\n",
       "      <td>23.000</td>\n",
       "      <td>16.500</td>\n",
       "      <td>1</td>\n",
       "      <td>0</td>\n",
       "      <td>1</td>\n",
       "    </tr>\n",
       "  </tbody>\n",
       "</table>\n",
       "</div>"
      ],
      "text/plain": [
       "   AtBat  Hits  HmRun  Runs  RBI  Walks  Years  CAtBat  CHits  CHmRun  CRuns  CRBI  CWalks  PutOuts  Assists  Errors  Salary  NEW_HitRatio  NEW_RunRatio  NEW_CHitRatio  \\\n",
       "0    293    66      1    30   29     14      1     293     66       1     30    29      14      446       33      20     nan         0.225         0.033          0.225   \n",
       "1    315    81      7    24   38     39     14    3449    835      69    321   414     375      632       43      10 475.000         0.257         0.292          0.242   \n",
       "2    479   130     18    66   72     76      3    1624    457      63    224   266     263      880       82      14 480.000         0.271         0.273          0.281   \n",
       "3    496   141     20    65   78     37     11    5628   1575     225    828   838     354      200       11       3 500.000         0.284         0.308          0.280   \n",
       "4    321    87     10    39   42     30      2     396    101      12     48    46      33      805       40       4  91.500         0.271         0.256          0.255   \n",
       "\n",
       "   NEW_CRunRatio  NEW_Avg_AtBat  NEW_Avg_Hits  NEW_Avg_HmRun  NEW_Avg_Runs  NEW_Avg_RBI  NEW_Avg_Walks  League_N  Division_W  NewLeague_N  \n",
       "0          0.033        293.000        66.000          1.000        30.000       29.000         14.000         0           0            0  \n",
       "1          0.215        246.357        59.643          4.929        22.929       29.571         26.786         1           1            1  \n",
       "2          0.281        541.333       152.333         21.000        74.667       88.667         87.667         0           1            0  \n",
       "3          0.272        511.636       143.182         20.455        75.273       76.182         32.182         1           0            1  \n",
       "4          0.250        198.000        50.500          6.000        24.000       23.000         16.500         1           0            1  "
      ]
     },
     "execution_count": 30,
     "metadata": {},
     "output_type": "execute_result"
    }
   ],
   "source": [
    "df.head()"
   ]
  },
  {
   "cell_type": "code",
   "execution_count": 31,
   "id": "d8e18072",
   "metadata": {},
   "outputs": [],
   "source": [
    "df_null = df[df[\"Salary\"].isnull()]\n",
    "df.dropna(inplace = True)"
   ]
  },
  {
   "cell_type": "code",
   "execution_count": 32,
   "id": "3acc1c93",
   "metadata": {},
   "outputs": [],
   "source": [
    "y = df[\"Salary\"]\n",
    "X = df.drop(\"Salary\", axis = 1)"
   ]
  },
  {
   "cell_type": "code",
   "execution_count": 41,
   "id": "d2f58387",
   "metadata": {},
   "outputs": [],
   "source": [
    "X_train, X_test, y_train, y_test = train_test_split(X, y, test_size=0.20, random_state=42)"
   ]
  },
  {
   "cell_type": "code",
   "execution_count": 42,
   "id": "da10d6f6",
   "metadata": {},
   "outputs": [],
   "source": [
    "#tüm modelleri bir arada bir fonksiyonda çalıştıralım.\n",
    "def all_models(X, y, test_size=0.2, random_state=42, classification=True):\n",
    "    from sklearn.metrics import accuracy_score, precision_score, recall_score, f1_score, \\\n",
    "        roc_auc_score, confusion_matrix, classification_report, plot_roc_curve, mean_squared_error\n",
    "\n",
    "    # Tum Base Modeller (Classification)\n",
    "    from sklearn.linear_model import LogisticRegression\n",
    "    from sklearn.neighbors import KNeighborsClassifier\n",
    "    from sklearn.tree import DecisionTreeClassifier\n",
    "    from sklearn.ensemble import RandomForestClassifier\n",
    "    from sklearn.ensemble import GradientBoostingClassifier\n",
    "    from catboost import CatBoostClassifier\n",
    "    from lightgbm import LGBMClassifier\n",
    "    from sklearn.svm import SVC\n",
    "\n",
    "    # Tum Base Modeller (Regression)\n",
    "    from catboost import CatBoostRegressor\n",
    "    from lightgbm import LGBMRegressor\n",
    "    from sklearn.ensemble import RandomForestRegressor, GradientBoostingRegressor\n",
    "    from sklearn.linear_model import LinearRegression, Ridge, Lasso, ElasticNet\n",
    "    from sklearn.neighbors import KNeighborsRegressor\n",
    "    from sklearn.svm import SVR\n",
    "    from sklearn.tree import DecisionTreeRegressor\n",
    "    from xgboost import XGBRegressor\n",
    "\n",
    "    X_train, X_test, y_train, y_test = train_test_split(X, y, test_size=0.20, random_state=random_state)\n",
    "    all_models = []\n",
    "\n",
    "    if classification:\n",
    "        models = [('LR', LogisticRegression(random_state=random_state)),\n",
    "                  ('KNN', KNeighborsClassifier()),\n",
    "                  ('CART', DecisionTreeClassifier(random_state=random_state)),\n",
    "                  ('RF', RandomForestClassifier(random_state=random_state)),\n",
    "                  ('SVM', SVC(gamma='auto', random_state=random_state)),\n",
    "                  ('XGB', GradientBoostingClassifier(random_state=random_state)),\n",
    "                  (\"LightGBM\", LGBMClassifier(random_state=random_state)),\n",
    "                  (\"CatBoost\", CatBoostClassifier(verbose=False, random_state=random_state))]\n",
    "\n",
    "        for name, model in models:\n",
    "            model.fit(X_train, y_train)\n",
    "            y_pred_train = model.predict(X_train)\n",
    "            y_pred_test = model.predict(X_test)\n",
    "            acc_train = accuracy_score(y_train, y_pred_train)\n",
    "            acc_test = accuracy_score(y_test, y_pred_test)\n",
    "            values = dict(name=name, acc_train=acc_train, acc_test=acc_test)\n",
    "            all_models.append(values)\n",
    "\n",
    "        sort_method = False\n",
    "    else:\n",
    "        models = [('LR', LinearRegression()),\n",
    "                  (\"Ridge\", Ridge()),\n",
    "                  (\"Lasso\", Lasso()),\n",
    "                  (\"ElasticNet\", ElasticNet()),\n",
    "                  ('KNN', KNeighborsRegressor()),\n",
    "                  ('CART', DecisionTreeRegressor()),\n",
    "                  ('RF', RandomForestRegressor()),\n",
    "                  ('SVR', SVR()),\n",
    "                  ('GBM', GradientBoostingRegressor()),\n",
    "                  (\"XGBoost\", XGBRegressor()),\n",
    "                  (\"LightGBM\", LGBMRegressor()),\n",
    "                  (\"CatBoost\", CatBoostRegressor(verbose=False))]\n",
    "\n",
    "        for name, model in models:\n",
    "            model.fit(X_train, y_train)\n",
    "            y_pred_test = model.predict(X_test)\n",
    "            y_pred_train = model.predict(X_train)\n",
    "            rmse_test = np.sqrt(mean_squared_error(y_test, y_pred_test))\n",
    "            rmse_train = np.sqrt(mean_squared_error(y_train, y_pred_train))\n",
    "            values = dict(name=name, RMSE_TRAIN=rmse_train, RMSE_TEST=rmse_test)\n",
    "            all_models.append(values)\n",
    "\n",
    "        sort_method = True\n",
    "    all_models_df = pd.DataFrame(all_models)\n",
    "    all_models_df = all_models_df.sort_values(all_models_df.columns[2], ascending=sort_method)\n",
    "    print(all_models_df)\n",
    "    return all_models_df"
   ]
  },
  {
   "cell_type": "code",
   "execution_count": 43,
   "id": "0b48409a",
   "metadata": {},
   "outputs": [
    {
     "name": "stdout",
     "output_type": "stream",
     "text": [
      "          name  RMSE_TRAIN  RMSE_TEST\n",
      "11    CatBoost       7.011    148.859\n",
      "6           RF      70.036    156.879\n",
      "10    LightGBM      64.236    163.018\n",
      "9      XGBoost       0.001    164.370\n",
      "8          GBM      40.109    164.583\n",
      "4          KNN     177.745    191.835\n",
      "5         CART       0.000    199.659\n",
      "2        Lasso     230.818    215.820\n",
      "1        Ridge     230.053    216.270\n",
      "3   ElasticNet     232.009    221.789\n",
      "0           LR     227.992    222.488\n",
      "7          SVR     315.161    316.731\n"
     ]
    }
   ],
   "source": [
    "all_models = all_models(X, y, test_size=0.2, random_state=42, classification=False)"
   ]
  },
  {
   "cell_type": "code",
   "execution_count": 44,
   "id": "391c075d",
   "metadata": {},
   "outputs": [
    {
     "data": {
      "text/html": [
       "<div>\n",
       "<style scoped>\n",
       "    .dataframe tbody tr th:only-of-type {\n",
       "        vertical-align: middle;\n",
       "    }\n",
       "\n",
       "    .dataframe tbody tr th {\n",
       "        vertical-align: top;\n",
       "    }\n",
       "\n",
       "    .dataframe thead th {\n",
       "        text-align: right;\n",
       "    }\n",
       "</style>\n",
       "<table border=\"1\" class=\"dataframe\">\n",
       "  <thead>\n",
       "    <tr style=\"text-align: right;\">\n",
       "      <th></th>\n",
       "      <th>name</th>\n",
       "      <th>RMSE_TRAIN</th>\n",
       "      <th>RMSE_TEST</th>\n",
       "    </tr>\n",
       "  </thead>\n",
       "  <tbody>\n",
       "    <tr>\n",
       "      <th>11</th>\n",
       "      <td>CatBoost</td>\n",
       "      <td>7.011</td>\n",
       "      <td>148.859</td>\n",
       "    </tr>\n",
       "    <tr>\n",
       "      <th>6</th>\n",
       "      <td>RF</td>\n",
       "      <td>70.036</td>\n",
       "      <td>156.879</td>\n",
       "    </tr>\n",
       "    <tr>\n",
       "      <th>10</th>\n",
       "      <td>LightGBM</td>\n",
       "      <td>64.236</td>\n",
       "      <td>163.018</td>\n",
       "    </tr>\n",
       "    <tr>\n",
       "      <th>9</th>\n",
       "      <td>XGBoost</td>\n",
       "      <td>0.001</td>\n",
       "      <td>164.370</td>\n",
       "    </tr>\n",
       "    <tr>\n",
       "      <th>8</th>\n",
       "      <td>GBM</td>\n",
       "      <td>40.109</td>\n",
       "      <td>164.583</td>\n",
       "    </tr>\n",
       "    <tr>\n",
       "      <th>4</th>\n",
       "      <td>KNN</td>\n",
       "      <td>177.745</td>\n",
       "      <td>191.835</td>\n",
       "    </tr>\n",
       "    <tr>\n",
       "      <th>5</th>\n",
       "      <td>CART</td>\n",
       "      <td>0.000</td>\n",
       "      <td>199.659</td>\n",
       "    </tr>\n",
       "    <tr>\n",
       "      <th>2</th>\n",
       "      <td>Lasso</td>\n",
       "      <td>230.818</td>\n",
       "      <td>215.820</td>\n",
       "    </tr>\n",
       "    <tr>\n",
       "      <th>1</th>\n",
       "      <td>Ridge</td>\n",
       "      <td>230.053</td>\n",
       "      <td>216.270</td>\n",
       "    </tr>\n",
       "    <tr>\n",
       "      <th>3</th>\n",
       "      <td>ElasticNet</td>\n",
       "      <td>232.009</td>\n",
       "      <td>221.789</td>\n",
       "    </tr>\n",
       "    <tr>\n",
       "      <th>0</th>\n",
       "      <td>LR</td>\n",
       "      <td>227.992</td>\n",
       "      <td>222.488</td>\n",
       "    </tr>\n",
       "    <tr>\n",
       "      <th>7</th>\n",
       "      <td>SVR</td>\n",
       "      <td>315.161</td>\n",
       "      <td>316.731</td>\n",
       "    </tr>\n",
       "  </tbody>\n",
       "</table>\n",
       "</div>"
      ],
      "text/plain": [
       "          name  RMSE_TRAIN  RMSE_TEST\n",
       "11    CatBoost       7.011    148.859\n",
       "6           RF      70.036    156.879\n",
       "10    LightGBM      64.236    163.018\n",
       "9      XGBoost       0.001    164.370\n",
       "8          GBM      40.109    164.583\n",
       "4          KNN     177.745    191.835\n",
       "5         CART       0.000    199.659\n",
       "2        Lasso     230.818    215.820\n",
       "1        Ridge     230.053    216.270\n",
       "3   ElasticNet     232.009    221.789\n",
       "0           LR     227.992    222.488\n",
       "7          SVR     315.161    316.731"
      ]
     },
     "execution_count": 44,
     "metadata": {},
     "output_type": "execute_result"
    }
   ],
   "source": [
    "all_models"
   ]
  },
  {
   "cell_type": "code",
   "execution_count": 40,
   "id": "1b2e5019",
   "metadata": {},
   "outputs": [
    {
     "data": {
      "text/plain": [
       "{'max_depth': 7,\n",
       " 'max_features': 4,\n",
       " 'min_samples_split': 8,\n",
       " 'n_estimators': 100}"
      ]
     },
     "execution_count": 40,
     "metadata": {},
     "output_type": "execute_result"
    }
   ],
   "source": [
    "#RF modelini tune edelim.\n",
    "rf_model = RandomForestRegressor(random_state=42).fit(X_train, y_train)\n",
    "\n",
    "rf_params = {\"max_depth\": [4, 5, 7, 10],\n",
    "             \"max_features\": [4, 5, 6, 8, 10, 12],\n",
    "             \"n_estimators\": [80, 100, 150, 250, 400, 500],\n",
    "             \"min_samples_split\": [8, 10, 12, 15]}\n",
    "\n",
    "rf_cv_model = GridSearchCV(rf_model, rf_params, cv = 10, n_jobs = -1).fit(X_train, y_train)\n",
    "rf_cv_model.best_params_"
   ]
  },
  {
   "cell_type": "code",
   "execution_count": 45,
   "id": "13aa331c",
   "metadata": {},
   "outputs": [],
   "source": [
    "rf_tuned = RandomForestRegressor(max_depth = 7, max_features = 4, n_estimators = 150, min_samples_split = 8, random_state = 42).fit(X_train, y_train)"
   ]
  },
  {
   "cell_type": "code",
   "execution_count": 48,
   "id": "7d12cdd1",
   "metadata": {},
   "outputs": [
    {
     "name": "stdout",
     "output_type": "stream",
     "text": [
      "RF Tuned Model Train RMSE: 106.35652629246664\n"
     ]
    }
   ],
   "source": [
    "#train hatası\n",
    "y_pred = rf_tuned.predict(X_train)\n",
    "print(\"RF Tuned Model Train RMSE:\", np.sqrt(mean_squared_error(y_train, y_pred)))"
   ]
  },
  {
   "cell_type": "code",
   "execution_count": 49,
   "id": "fb3b521f",
   "metadata": {},
   "outputs": [
    {
     "name": "stdout",
     "output_type": "stream",
     "text": [
      "RF Tuned Model Test RMSE: 158.04296075452135\n"
     ]
    }
   ],
   "source": [
    "#test hatası\n",
    "y_pred = rf_tuned.predict(X_test)\n",
    "print(\"RF Tuned Model Test RMSE:\", np.sqrt(mean_squared_error(y_test, y_pred)))"
   ]
  },
  {
   "cell_type": "code",
   "execution_count": 50,
   "id": "3497f999",
   "metadata": {},
   "outputs": [
    {
     "data": {
      "image/png": "[encoded data removed]",
      "text/plain": [
       "<Figure size 720x720 with 1 Axes>"
      ]
     },
     "metadata": {
      "needs_background": "light"
     },
     "output_type": "display_data"
    }
   ],
   "source": [
    "#modelimizde hangi özellikler daha önemli ona bakalım.\n",
    "\n",
    "def plot_importance(model, features, num=len(X), save=False):\n",
    "    import pandas as pd\n",
    "    import seaborn as sns\n",
    "    import matplotlib.pyplot as plt\n",
    "    feature_imp = pd.DataFrame({'Value': model.feature_importances_, 'Feature': features.columns})\n",
    "    plt.figure(figsize=(10, 10))\n",
    "    sns.set(font_scale=1)\n",
    "    sns.barplot(x=\"Value\", y=\"Feature\", data=feature_imp.sort_values(by=\"Value\",\n",
    "                                                                     ascending=False)[0:num])\n",
    "    plt.title('Features')\n",
    "    plt.tight_layout()\n",
    "    plt.show()\n",
    "    if save:\n",
    "        plt.savefig('importances.png')\n",
    "\n",
    "plot_importance(rf_tuned, X_train)"
   ]
  },
  {
   "cell_type": "code",
   "execution_count": 51,
   "id": "5e755846",
   "metadata": {},
   "outputs": [],
   "source": [
    "#tuned modelin kaydedilmesi\n",
    "\n",
    "import pickle\n",
    "pickle.dump(rf_tuned, open(\"rf_final_model.pkl\", 'wb'))"
   ]
  },
  {
   "cell_type": "code",
   "execution_count": 52,
   "id": "bd51e01c",
   "metadata": {},
   "outputs": [],
   "source": [
    "#tuned modelin yüklenmesi\n",
    "df_prep = pickle.load(open('rf_final_model.pkl', 'rb'))"
   ]
  },
  {
   "cell_type": "code",
   "execution_count": 53,
   "id": "1f7724cf",
   "metadata": {},
   "outputs": [
    {
     "data": {
      "text/html": [
       "<style>#sk-container-id-1 {color: black;background-color: white;}#sk-container-id-1 pre{padding: 0;}#sk-container-id-1 div.sk-toggleable {background-color: white;}#sk-container-id-1 label.sk-toggleable__label {cursor: pointer;display: block;width: 100%;margin-bottom: 0;padding: 0.3em;box-sizing: border-box;text-align: center;}#sk-container-id-1 label.sk-toggleable__label-arrow:before {content: \"▸\";float: left;margin-right: 0.25em;color: #696969;}#sk-container-id-1 label.sk-toggleable__label-arrow:hover:before {color: black;}#sk-container-id-1 div.sk-estimator:hover label.sk-toggleable__label-arrow:before {color: black;}#sk-container-id-1 div.sk-toggleable__content {max-height: 0;max-width: 0;overflow: hidden;text-align: left;background-color: #f0f8ff;}#sk-container-id-1 div.sk-toggleable__content pre {margin: 0.2em;color: black;border-radius: 0.25em;background-color: #f0f8ff;}#sk-container-id-1 input.sk-toggleable__control:checked~div.sk-toggleable__content {max-height: 200px;max-width: 100%;overflow: auto;}#sk-container-id-1 input.sk-toggleable__control:checked~label.sk-toggleable__label-arrow:before {content: \"▾\";}#sk-container-id-1 div.sk-estimator input.sk-toggleable__control:checked~label.sk-toggleable__label {background-color: #d4ebff;}#sk-container-id-1 div.sk-label input.sk-toggleable__control:checked~label.sk-toggleable__label {background-color: #d4ebff;}#sk-container-id-1 input.sk-hidden--visually {border: 0;clip: rect(1px 1px 1px 1px);clip: rect(1px, 1px, 1px, 1px);height: 1px;margin: -1px;overflow: hidden;padding: 0;position: absolute;width: 1px;}#sk-container-id-1 div.sk-estimator {font-family: monospace;background-color: #f0f8ff;border: 1px dotted black;border-radius: 0.25em;box-sizing: border-box;margin-bottom: 0.5em;}#sk-container-id-1 div.sk-estimator:hover {background-color: #d4ebff;}#sk-container-id-1 div.sk-parallel-item::after {content: \"\";width: 100%;border-bottom: 1px solid gray;flex-grow: 1;}#sk-container-id-1 div.sk-label:hover label.sk-toggleable__label {background-color: #d4ebff;}#sk-container-id-1 div.sk-serial::before {content: \"\";position: absolute;border-left: 1px solid gray;box-sizing: border-box;top: 0;bottom: 0;left: 50%;z-index: 0;}#sk-container-id-1 div.sk-serial {display: flex;flex-direction: column;align-items: center;background-color: white;padding-right: 0.2em;padding-left: 0.2em;position: relative;}#sk-container-id-1 div.sk-item {position: relative;z-index: 1;}#sk-container-id-1 div.sk-parallel {display: flex;align-items: stretch;justify-content: center;background-color: white;position: relative;}#sk-container-id-1 div.sk-item::before, #sk-container-id-1 div.sk-parallel-item::before {content: \"\";position: absolute;border-left: 1px solid gray;box-sizing: border-box;top: 0;bottom: 0;left: 50%;z-index: -1;}#sk-container-id-1 div.sk-parallel-item {display: flex;flex-direction: column;z-index: 1;position: relative;background-color: white;}#sk-container-id-1 div.sk-parallel-item:first-child::after {align-self: flex-end;width: 50%;}#sk-container-id-1 div.sk-parallel-item:last-child::after {align-self: flex-start;width: 50%;}#sk-container-id-1 div.sk-parallel-item:only-child::after {width: 0;}#sk-container-id-1 div.sk-dashed-wrapped {border: 1px dashed gray;margin: 0 0.4em 0.5em 0.4em;box-sizing: border-box;padding-bottom: 0.4em;background-color: white;}#sk-container-id-1 div.sk-label label {font-family: monospace;font-weight: bold;display: inline-block;line-height: 1.2em;}#sk-container-id-1 div.sk-label-container {text-align: center;}#sk-container-id-1 div.sk-container {/* jupyter's `normalize.less` sets `[hidden] { display: none; }` but bootstrap.min.css set `[hidden] { display: none !important; }` so we also need the `!important` here to be able to override the default hidden behavior on the sphinx rendered scikit-learn.org. See: https://github.com/scikit-learn/scikit-learn/issues/21755 */display: inline-block !important;position: relative;}#sk-container-id-1 div.sk-text-repr-fallback {display: none;}</style><div id=\"sk-container-id-1\" class=\"sk-top-container\"><div class=\"sk-text-repr-fallback\"><pre>RandomForestRegressor(max_depth=7, max_features=4, min_samples_split=8,\n",
       "                      n_estimators=150, random_state=42)</pre><b>In a Jupyter environment, please rerun this cell to show the HTML representation or trust the notebook. <br />On GitHub, the HTML representation is unable to render, please try loading this page with nbviewer.org.</b></div><div class=\"sk-container\" hidden><div class=\"sk-item\"><div class=\"sk-estimator sk-toggleable\"><input class=\"sk-toggleable__control sk-hidden--visually\" id=\"sk-estimator-id-1\" type=\"checkbox\" checked><label for=\"sk-estimator-id-1\" class=\"sk-toggleable__label sk-toggleable__label-arrow\">RandomForestRegressor</label><div class=\"sk-toggleable__content\"><pre>RandomForestRegressor(max_depth=7, max_features=4, min_samples_split=8,\n",
       "                      n_estimators=150, random_state=42)</pre></div></div></div></div></div>"
      ],
      "text/plain": [
       "RandomForestRegressor(max_depth=7, max_features=4, min_samples_split=8,\n",
       "                      n_estimators=150, random_state=42)"
      ]
     },
     "execution_count": 53,
     "metadata": {},
     "output_type": "execute_result"
    }
   ],
   "source": [
    "df_prep"
   ]
  },
  {
   "cell_type": "code",
   "execution_count": 65,
   "id": "1ef25db7",
   "metadata": {},
   "outputs": [
    {
     "data": {
      "text/plain": [
       "186   300.000\n",
       "7     100.000\n",
       "Name: Salary, dtype: float64"
      ]
     },
     "execution_count": 65,
     "metadata": {},
     "output_type": "execute_result"
    }
   ],
   "source": [
    "y_test[0:2]"
   ]
  },
  {
   "cell_type": "code",
   "execution_count": 66,
   "id": "45574ff1",
   "metadata": {},
   "outputs": [
    {
     "data": {
      "text/plain": [
       "array([347.925, 101.83 ])"
      ]
     },
     "execution_count": 66,
     "metadata": {},
     "output_type": "execute_result"
    }
   ],
   "source": [
    "rf_model.predict(X_test)[0:2]"
   ]
  }
 ],
 "metadata": {
  "kernelspec": {
   "display_name": "Python 3 (ipykernel)",
   "language": "python",
   "name": "python3"
  },
  "language_info": {
   "codemirror_mode": {
    "name": "ipython",
    "version": 3
   },
   "file_extension": ".py",
   "mimetype": "text/x-python",
   "name": "python",
   "nbconvert_exporter": "python",
   "pygments_lexer": "ipython3",
   "version": "3.8.10"
  }
 },
 "nbformat": 4,
 "nbformat_minor": 5
}
